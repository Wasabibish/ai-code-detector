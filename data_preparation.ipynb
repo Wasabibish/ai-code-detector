{
 "cells": [
  {
   "cell_type": "markdown",
   "metadata": {},
   "source": [
    "### Data Preparation Notebook\n",
    "\n",
    "This notebook is designed to explore and preprocess the dataset for model training. It performs feature extraction, and other preparation steps to ensure the data is in the correct format for model training.\n",
    "\n",
    "- **Optional**: Since the preprocessed data is already saved as `data.csv`, running this notebook is not mandatory.\n",
    "- **Usage**: If you wish to rerun the data preparation steps, ensure you have the **Data** folder (from the challenge) uploaded before executing the notebook.\n"
   ]
  },
  {
   "cell_type": "code",
   "execution_count": 2,
   "metadata": {},
   "outputs": [],
   "source": [
    "import pandas as pd\n",
    "import os"
   ]
  },
  {
   "cell_type": "code",
   "execution_count": 3,
   "metadata": {},
   "outputs": [],
   "source": [
    "# get current directory\n",
    "CURRENT_DIR = os.getcwd()"
   ]
  },
  {
   "cell_type": "code",
   "execution_count": 4,
   "metadata": {},
   "outputs": [],
   "source": [
    "# get data path\n",
    "DATA_PATH = os.path.join(CURRENT_DIR, 'Data')\n",
    "DATA_FILE = 'PATH TO DATA FOLDER.xlsx'\n",
    "DATASET_DIR = 'dataset-source-codes'\n",
    "DATA_FILE_PATH = os.path.join(DATA_PATH, DATA_FILE)"
   ]
  },
  {
   "cell_type": "code",
   "execution_count": 5,
   "metadata": {},
   "outputs": [],
   "source": [
    "# read data\n",
    "data = pd.read_excel(DATA_FILE_PATH)"
   ]
  },
  {
   "cell_type": "code",
   "execution_count": 6,
   "metadata": {},
   "outputs": [
    {
     "data": {
      "text/html": [
       "<div>\n",
       "<style scoped>\n",
       "    .dataframe tbody tr th:only-of-type {\n",
       "        vertical-align: middle;\n",
       "    }\n",
       "\n",
       "    .dataframe tbody tr th {\n",
       "        vertical-align: top;\n",
       "    }\n",
       "\n",
       "    .dataframe thead th {\n",
       "        text-align: right;\n",
       "    }\n",
       "</style>\n",
       "<table border=\"1\" class=\"dataframe\">\n",
       "  <thead>\n",
       "    <tr style=\"text-align: right;\">\n",
       "      <th></th>\n",
       "      <th>coding_problem_id</th>\n",
       "      <th>llm_answer_id</th>\n",
       "      <th>plagiarism_score</th>\n",
       "    </tr>\n",
       "  </thead>\n",
       "  <tbody>\n",
       "    <tr>\n",
       "      <th>300</th>\n",
       "      <td>source_code_050</td>\n",
       "      <td>gpt-3.5-turbo_00</td>\n",
       "      <td>0.1</td>\n",
       "    </tr>\n",
       "    <tr>\n",
       "      <th>301</th>\n",
       "      <td>source_code_050</td>\n",
       "      <td>gpt-3.5-turbo_01</td>\n",
       "      <td>0.1</td>\n",
       "    </tr>\n",
       "    <tr>\n",
       "      <th>302</th>\n",
       "      <td>source_code_050</td>\n",
       "      <td>gpt-4_00</td>\n",
       "      <td>0.1</td>\n",
       "    </tr>\n",
       "    <tr>\n",
       "      <th>303</th>\n",
       "      <td>source_code_050</td>\n",
       "      <td>gpt-4_01</td>\n",
       "      <td>0.1</td>\n",
       "    </tr>\n",
       "    <tr>\n",
       "      <th>304</th>\n",
       "      <td>source_code_050</td>\n",
       "      <td>gpt-4-turbo_00</td>\n",
       "      <td>0.1</td>\n",
       "    </tr>\n",
       "    <tr>\n",
       "      <th>305</th>\n",
       "      <td>source_code_050</td>\n",
       "      <td>gpt-4-turbo_01</td>\n",
       "      <td>0.1</td>\n",
       "    </tr>\n",
       "  </tbody>\n",
       "</table>\n",
       "</div>"
      ],
      "text/plain": [
       "    coding_problem_id     llm_answer_id  plagiarism_score\n",
       "300   source_code_050  gpt-3.5-turbo_00               0.1\n",
       "301   source_code_050  gpt-3.5-turbo_01               0.1\n",
       "302   source_code_050          gpt-4_00               0.1\n",
       "303   source_code_050          gpt-4_01               0.1\n",
       "304   source_code_050    gpt-4-turbo_00               0.1\n",
       "305   source_code_050    gpt-4-turbo_01               0.1"
      ]
     },
     "execution_count": 6,
     "metadata": {},
     "output_type": "execute_result"
    }
   ],
   "source": [
    "# check one example\n",
    "data[data['coding_problem_id']=='source_code_050']"
   ]
  },
  {
   "cell_type": "code",
   "execution_count": 7,
   "metadata": {},
   "outputs": [],
   "source": [
    "def get_files(coding_problem_id):\n",
    "    \"\"\"\n",
    "    Get all the files from the dataset directory using the coding problem id\n",
    "\n",
    "    Parameters:\n",
    "    ----------\n",
    "    coding_problem_id: int or str\n",
    "        The coding problem id\n",
    "\n",
    "    Returns:\n",
    "    -------\n",
    "    files: list\n",
    "        List of files in the dataset directory\n",
    "    \"\"\"\n",
    "\n",
    "    if isinstance(coding_problem_id, int):\n",
    "        code_source_name = 'source_code_00{}'.format(coding_problem_id) if coding_problem_id < 10 else 'source_code_0{}'.format(coding_problem_id)\n",
    "    else:\n",
    "        code_source_name = coding_problem_id\n",
    "    \n",
    "    # get all the files from the dataset directory for the coding problem id\n",
    "    dataset_dir = os.path.join(DATA_PATH, DATASET_DIR, code_source_name)\n",
    "    files = os.listdir(dataset_dir)\n",
    "    return files"
   ]
  },
  {
   "cell_type": "code",
   "execution_count": 8,
   "metadata": {},
   "outputs": [],
   "source": [
    "# open the file and read the content\n",
    "def read_file(coding_problem_id, file_name):\n",
    "    \"\"\"\n",
    "    Read the content of the file, given the coding problem id and file name\n",
    "\n",
    "    Parameters:\n",
    "    ----------\n",
    "    coding_problem_id: int or str\n",
    "        The coding problem id\n",
    "    file_name: str\n",
    "        The file name to read\n",
    "\n",
    "    Returns:\n",
    "    -------\n",
    "    content: str\n",
    "        The content of the file for the coding problem id\n",
    "    \"\"\"\n",
    "\n",
    "    if isinstance(coding_problem_id, int):\n",
    "        code_source_name = 'source_code_00{}'.format(coding_problem_id) if coding_problem_id < 10 else 'source_code_0{}'.format(coding_problem_id)\n",
    "    else:\n",
    "        code_source_name = coding_problem_id\n",
    "\n",
    "    # read the content of the file\n",
    "    dataset_dir = os.path.join(DATA_PATH, DATASET_DIR, code_source_name)\n",
    "    file_path = os.path.join(dataset_dir, file_name)\n",
    "    with open(file_path, 'r') as file:\n",
    "        content = file.read()\n",
    "    return content\n"
   ]
  },
  {
   "cell_type": "code",
   "execution_count": 9,
   "metadata": {},
   "outputs": [],
   "source": [
    "def read_file_json(coding_problem_id):\n",
    "    \"\"\"\n",
    "    Read the content of the json file, given the coding problem id\n",
    "    The json file contains information about the coding problem (question, example, etc.)\n",
    "\n",
    "    Parameters:\n",
    "    ----------\n",
    "    coding_problem_id: int or str\n",
    "        The coding problem id\n",
    "\n",
    "    Returns:\n",
    "    -------\n",
    "    content: dict\n",
    "        The content of the json file for the coding problem id\n",
    "    \"\"\"\n",
    "\n",
    "    # using the get_files function to get all the files and select the .json file\n",
    "    files = get_files(coding_problem_id)\n",
    "    json_file = [file for file in files if file.endswith('.json')]\n",
    "    if not json_file:\n",
    "        return None\n",
    "    json_file = json_file[0]\n",
    "    if isinstance(coding_problem_id, int):\n",
    "        code_source_name = 'source_code_00{}'.format(coding_problem_id) if coding_problem_id < 10 else 'source_code_0{}'.format(coding_problem_id)\n",
    "    else:\n",
    "        code_source_name = coding_problem_id\n",
    "\n",
    "    dataset_dir = os.path.join(DATA_PATH, DATASET_DIR, code_source_name)\n",
    "    file_path = os.path.join(dataset_dir, json_file)\n",
    "    # return it as dictionary object\n",
    "    return pd.read_json(file_path, orient='index').T.to_dict()\n"
   ]
  },
  {
   "cell_type": "code",
   "execution_count": 10,
   "metadata": {},
   "outputs": [],
   "source": [
    "def read_humain_file(coding_problem_id):\n",
    "    \"\"\"\n",
    "    Read the content of the human file, given the coding problem id\n",
    "    The human file contains the human solution for the coding problem\n",
    "    The file name is always the coding problem id + the extension of the file \n",
    "    without additional (gpt, etc.)\n",
    "    Parameters:\n",
    "    ----------\n",
    "    coding_problem_id: int or str\n",
    "        The coding problem id\n",
    "\n",
    "    Returns:\n",
    "    -------\n",
    "    content: str\n",
    "        The content of the human file for the coding problem id\n",
    "    \"\"\"\n",
    "    if isinstance(coding_problem_id, int):\n",
    "        code_source_name = 'source_code_00{}'.format(coding_problem_id) if coding_problem_id < 10 else 'source_code_0{}'.format(coding_problem_id)\n",
    "    else:\n",
    "        code_source_name = coding_problem_id\n",
    "\n",
    "    dataset_dir = os.path.join(DATA_PATH, DATASET_DIR, code_source_name)\n",
    "    files = os.listdir(dataset_dir)\n",
    "    human_file = [file for file in files if file.startswith(code_source_name) and not file.endswith('.json')][0]\n",
    "    file_path = os.path.join(dataset_dir, human_file)\n",
    "\n",
    "    with open(file_path, 'r') as file:\n",
    "        content = file.read()\n",
    "\n",
    "    return content"
   ]
  },
  {
   "cell_type": "code",
   "execution_count": 11,
   "metadata": {},
   "outputs": [],
   "source": [
    "# get the pair from the dataframe coding_problem_id and llm_answer_id\n",
    "\n",
    "def get_pair(coding_problem_id):\n",
    "    \"\"\"\n",
    "    Get the pair of coding problem id and llm answer id from the dataframe\n",
    "\n",
    "    Parameters:\n",
    "    ----------\n",
    "    coding_problem_id: int or str\n",
    "        The coding problem id\n",
    "\n",
    "    Returns:\n",
    "    -------\n",
    "    coding_id: str\n",
    "        The coding problem id\n",
    "    llm_id: str\n",
    "        The llm answer id\n",
    "    \"\"\"\n",
    "\n",
    "    if isinstance(coding_problem_id, int):\n",
    "        coding_problem_id = 'source_code_00{}'.format(coding_problem_id) if coding_problem_id < 10 else 'source_code_0{}'.format(coding_problem_id)\n",
    "    else:\n",
    "        coding_problem_id = coding_problem_id\n",
    "\n",
    "    # get the pair from the dataframe\n",
    "    filtred_dataframe = data[data['coding_problem_id']==coding_problem_id]\n",
    "    coding_id = filtred_dataframe['coding_problem_id'].values[0]\n",
    "    llm_id = filtred_dataframe['llm_answer_id'].values[0]\n",
    "\n",
    "    return coding_id, llm_id"
   ]
  },
  {
   "cell_type": "code",
   "execution_count": 12,
   "metadata": {},
   "outputs": [],
   "source": [
    "# get content file of the pair\n",
    "\n",
    "def get_content(coding_problem_id):\n",
    "    \"\"\"\n",
    "    Get the content of the json file, llm file, human file and problem question\n",
    "    for the coding problem id\n",
    "\n",
    "    Parameters:\n",
    "    ----------\n",
    "    coding_problem_id: int or str\n",
    "        The coding problem id\n",
    "\n",
    "    Returns:\n",
    "    -------\n",
    "    json_content: dict\n",
    "        The content of the json file for the coding problem id\n",
    "    llm_content: str\n",
    "        The content of the llm file for the coding problem id\n",
    "    human_content: str\n",
    "        The content of the human file for the coding problem id\n",
    "    problem_question: str\n",
    "        The question of the coding problem id\n",
    "    \"\"\"\n",
    "\n",
    "    if isinstance(coding_problem_id, int):\n",
    "        coding_problem_id = 'source_code_00{}'.format(coding_problem_id) if coding_problem_id < 10 else 'source_code_0{}'.format(coding_problem_id)\n",
    "    else:\n",
    "        coding_problem_id = coding_problem_id\n",
    "    \n",
    "    # get the necessary contents\n",
    "    coding_id, llm_id = get_pair(coding_problem_id)\n",
    "    json_content = read_file_json(coding_id)\n",
    "    files_list = get_files(coding_id)\n",
    "    human_content = read_humain_file(coding_id)\n",
    "    problem_question = json_content['question'][0]\n",
    "\n",
    "    # for each file in the files_list check if llm id is in the file name\n",
    "    for file in files_list:\n",
    "        if llm_id in file:\n",
    "            llm_content = read_file(coding_id, file)\n",
    "\n",
    "    return json_content, llm_content, human_content, problem_question"
   ]
  },
  {
   "cell_type": "code",
   "execution_count": 13,
   "metadata": {},
   "outputs": [],
   "source": [
    "# now we can add the necessary content to the dataframe\n",
    "\n",
    "data['json_content'] = None\n",
    "data['llm_content'] = None\n",
    "data['human_content'] = None\n",
    "data['question'] = None\n",
    "\n",
    "for index, row in data.iterrows():\n",
    "    coding_problem_id = row['coding_problem_id']\n",
    "    json_content, llm_content, human_content, question = get_content(coding_problem_id)\n",
    "    data.at[index, 'json_content'] = json_content\n",
    "    data.at[index, 'llm_content'] = llm_content\n",
    "    data.at[index, 'human_content'] = human_content\n",
    "    data.at[index, 'question'] = question"
   ]
  },
  {
   "cell_type": "code",
   "execution_count": 14,
   "metadata": {},
   "outputs": [
    {
     "data": {
      "text/html": [
       "<div>\n",
       "<style scoped>\n",
       "    .dataframe tbody tr th:only-of-type {\n",
       "        vertical-align: middle;\n",
       "    }\n",
       "\n",
       "    .dataframe tbody tr th {\n",
       "        vertical-align: top;\n",
       "    }\n",
       "\n",
       "    .dataframe thead th {\n",
       "        text-align: right;\n",
       "    }\n",
       "</style>\n",
       "<table border=\"1\" class=\"dataframe\">\n",
       "  <thead>\n",
       "    <tr style=\"text-align: right;\">\n",
       "      <th></th>\n",
       "      <th>coding_problem_id</th>\n",
       "      <th>llm_answer_id</th>\n",
       "      <th>plagiarism_score</th>\n",
       "      <th>json_content</th>\n",
       "      <th>llm_content</th>\n",
       "      <th>human_content</th>\n",
       "      <th>question</th>\n",
       "    </tr>\n",
       "  </thead>\n",
       "  <tbody>\n",
       "    <tr>\n",
       "      <th>0</th>\n",
       "      <td>source_code_000</td>\n",
       "      <td>gpt-3.5-turbo_00</td>\n",
       "      <td>0.0</td>\n",
       "      <td>{'ic_id': {0: 75}, 'ica_id': {0: 688}, 'questi...</td>\n",
       "      <td>public class LargestElementFinder {\\n    publi...</td>\n",
       "      <td>fun findLargestElement(array: IntArray) : Int ...</td>\n",
       "      <td>Write a program to find the largest element in...</td>\n",
       "    </tr>\n",
       "    <tr>\n",
       "      <th>1</th>\n",
       "      <td>source_code_000</td>\n",
       "      <td>gpt-3.5-turbo_01</td>\n",
       "      <td>0.0</td>\n",
       "      <td>{'ic_id': {0: 75}, 'ica_id': {0: 688}, 'questi...</td>\n",
       "      <td>public class LargestElementFinder {\\n    publi...</td>\n",
       "      <td>fun findLargestElement(array: IntArray) : Int ...</td>\n",
       "      <td>Write a program to find the largest element in...</td>\n",
       "    </tr>\n",
       "    <tr>\n",
       "      <th>2</th>\n",
       "      <td>source_code_000</td>\n",
       "      <td>gpt-4_00</td>\n",
       "      <td>0.0</td>\n",
       "      <td>{'ic_id': {0: 75}, 'ica_id': {0: 688}, 'questi...</td>\n",
       "      <td>public class LargestElementFinder {\\n    publi...</td>\n",
       "      <td>fun findLargestElement(array: IntArray) : Int ...</td>\n",
       "      <td>Write a program to find the largest element in...</td>\n",
       "    </tr>\n",
       "    <tr>\n",
       "      <th>3</th>\n",
       "      <td>source_code_000</td>\n",
       "      <td>gpt-4_01</td>\n",
       "      <td>0.0</td>\n",
       "      <td>{'ic_id': {0: 75}, 'ica_id': {0: 688}, 'questi...</td>\n",
       "      <td>public class LargestElementFinder {\\n    publi...</td>\n",
       "      <td>fun findLargestElement(array: IntArray) : Int ...</td>\n",
       "      <td>Write a program to find the largest element in...</td>\n",
       "    </tr>\n",
       "    <tr>\n",
       "      <th>4</th>\n",
       "      <td>source_code_000</td>\n",
       "      <td>gpt-4-turbo_00</td>\n",
       "      <td>0.0</td>\n",
       "      <td>{'ic_id': {0: 75}, 'ica_id': {0: 688}, 'questi...</td>\n",
       "      <td>public class LargestElementFinder {\\n    publi...</td>\n",
       "      <td>fun findLargestElement(array: IntArray) : Int ...</td>\n",
       "      <td>Write a program to find the largest element in...</td>\n",
       "    </tr>\n",
       "  </tbody>\n",
       "</table>\n",
       "</div>"
      ],
      "text/plain": [
       "  coding_problem_id     llm_answer_id  plagiarism_score  \\\n",
       "0   source_code_000  gpt-3.5-turbo_00               0.0   \n",
       "1   source_code_000  gpt-3.5-turbo_01               0.0   \n",
       "2   source_code_000          gpt-4_00               0.0   \n",
       "3   source_code_000          gpt-4_01               0.0   \n",
       "4   source_code_000    gpt-4-turbo_00               0.0   \n",
       "\n",
       "                                        json_content  \\\n",
       "0  {'ic_id': {0: 75}, 'ica_id': {0: 688}, 'questi...   \n",
       "1  {'ic_id': {0: 75}, 'ica_id': {0: 688}, 'questi...   \n",
       "2  {'ic_id': {0: 75}, 'ica_id': {0: 688}, 'questi...   \n",
       "3  {'ic_id': {0: 75}, 'ica_id': {0: 688}, 'questi...   \n",
       "4  {'ic_id': {0: 75}, 'ica_id': {0: 688}, 'questi...   \n",
       "\n",
       "                                         llm_content  \\\n",
       "0  public class LargestElementFinder {\\n    publi...   \n",
       "1  public class LargestElementFinder {\\n    publi...   \n",
       "2  public class LargestElementFinder {\\n    publi...   \n",
       "3  public class LargestElementFinder {\\n    publi...   \n",
       "4  public class LargestElementFinder {\\n    publi...   \n",
       "\n",
       "                                       human_content  \\\n",
       "0  fun findLargestElement(array: IntArray) : Int ...   \n",
       "1  fun findLargestElement(array: IntArray) : Int ...   \n",
       "2  fun findLargestElement(array: IntArray) : Int ...   \n",
       "3  fun findLargestElement(array: IntArray) : Int ...   \n",
       "4  fun findLargestElement(array: IntArray) : Int ...   \n",
       "\n",
       "                                            question  \n",
       "0  Write a program to find the largest element in...  \n",
       "1  Write a program to find the largest element in...  \n",
       "2  Write a program to find the largest element in...  \n",
       "3  Write a program to find the largest element in...  \n",
       "4  Write a program to find the largest element in...  "
      ]
     },
     "execution_count": 14,
     "metadata": {},
     "output_type": "execute_result"
    }
   ],
   "source": [
    "data.head()"
   ]
  },
  {
   "cell_type": "code",
   "execution_count": 15,
   "metadata": {},
   "outputs": [],
   "source": [
    "data.to_csv('data.csv', index=False)"
   ]
  },
  {
   "cell_type": "code",
   "execution_count": 16,
   "metadata": {},
   "outputs": [
    {
     "data": {
      "text/plain": [
       "<Axes: >"
      ]
     },
     "execution_count": 16,
     "metadata": {},
     "output_type": "execute_result"
    },
    {
     "data": {
      "image/png": "[encoded data removed]",
      "text/plain": [
       "<Figure size 640x480 with 1 Axes>"
      ]
     },
     "metadata": {},
     "output_type": "display_data"
    }
   ],
   "source": [
    "# distribution of the plagiarism score\n",
    "data['plagiarism_score'].hist()"
   ]
  },
  {
   "cell_type": "code",
   "execution_count": 17,
   "metadata": {},
   "outputs": [
    {
     "data": {
      "text/plain": [
       "<Axes: >"
      ]
     },
     "execution_count": 17,
     "metadata": {},
     "output_type": "execute_result"
    },
    {
     "data": {
      "image/png": "[encoded data removed]",
      "text/plain": [
       "<Figure size 640x480 with 1 Axes>"
      ]
     },
     "metadata": {},
     "output_type": "display_data"
    }
   ],
   "source": [
    "# distribution of the length of the llm content\n",
    "data['llm_content_length'] = data['llm_content'].apply(lambda x: len(x))\n",
    "data['llm_content_length'].hist()"
   ]
  },
  {
   "cell_type": "code",
   "execution_count": 18,
   "metadata": {},
   "outputs": [
    {
     "data": {
      "text/plain": [
       "<Axes: >"
      ]
     },
     "execution_count": 18,
     "metadata": {},
     "output_type": "execute_result"
    },
    {
     "data": {
      "image/png": "[encoded data removed]",
      "text/plain": [
       "<Figure size 640x480 with 1 Axes>"
      ]
     },
     "metadata": {},
     "output_type": "display_data"
    }
   ],
   "source": [
    "# distribution of the length of the human content\n",
    "data['human_content_length'] = data['human_content'].apply(lambda x: len(x))\n",
    "data['human_content_length'].hist()"
   ]
  },
  {
   "cell_type": "code",
   "execution_count": null,
   "metadata": {},
   "outputs": [],
   "source": []
  }
 ],
 "metadata": {
  "kernelspec": {
   "display_name": "venv",
   "language": "python",
   "name": "python3"
  },
  "language_info": {
   "codemirror_mode": {
    "name": "ipython",
    "version": 3
   },
   "file_extension": ".py",
   "mimetype": "text/x-python",
   "name": "python",
   "nbconvert_exporter": "python",
   "pygments_lexer": "ipython3",
   "version": "3.9.10"
  }
 },
 "nbformat": 4,
 "nbformat_minor": 2
}
